{
  "nbformat": 4,
  "nbformat_minor": 0,
  "metadata": {
    "colab": {
      "provenance": [],
      "authorship_tag": "ABX9TyOPlJhPtrwO2QJ1DGUtGbJr",
      "include_colab_link": true
    },
    "kernelspec": {
      "name": "python3",
      "display_name": "Python 3"
    },
    "language_info": {
      "name": "python"
    }
  },
  "cells": [
    {
      "cell_type": "markdown",
      "metadata": {
        "id": "view-in-github",
        "colab_type": "text"
      },
      "source": [
        "<a href=\"https://colab.research.google.com/github/iamhero2709/Learning-Projects-Notebook/blob/main/tensorflow_withdl/tensorflow_2ipynb.ipynb\" target=\"_parent\"><img src=\"https://colab.research.google.com/assets/colab-badge.svg\" alt=\"Open In Colab\"/></a>"
      ]
    },
    {
      "cell_type": "markdown",
      "source": [
        "LOGISTIC REGRESSION WITH TENSORFLOW\n",
        "---"
      ],
      "metadata": {
        "id": "zjq5x6XoGyK-"
      }
    },
    {
      "cell_type": "markdown",
      "source": [
        "Diffrence between Linear Regresison and Logistic Regression ??\n",
        "---\n",
        "* Logistic Regression - for classification (Binary)\n",
        "* Linear Regresion - for Regression (contnious Vlaues )\n",
        "* Logistic rgression i s variation of a model  when dependtent variable is categorical\n",
        "* Lgistic Regression -probalistic clasification model\n",
        "* fits a special s shaped curve by taking the linear regression and transofrming  the numeric estimate into a probality with  the function below\n",
        "\n",
        "$$\n",
        "ProbabilityOfaClass = \\theta(y) = \\frac{e^y}{1 + e^y} = exp(y) / (1 + exp(y)) = p\n",
        "$$\n",
        "\n",
        "* produce p values between o and 1\n",
        "*theta(y) logistic function also alled logistic curve  common S shaped sigmoid curve"
      ],
      "metadata": {
        "id": "xVIM1fODG5J2"
      }
    },
    {
      "cell_type": "markdown",
      "source": [
        "Utlizing Logistic Regression in Tensorflow\n",
        "---"
      ],
      "metadata": {
        "id": "0b6d4GZvIaQ2"
      }
    },
    {
      "cell_type": "markdown",
      "source": [
        "STEP1-IMPORT LIBRARIES AAND DATASET\n",
        "---"
      ],
      "metadata": {
        "id": "Zd61EDa8Rh0e"
      }
    },
    {
      "cell_type": "code",
      "source": [
        "import tensorflow as tf\n",
        "import pandas as pd\n",
        "import matplotlib.pyplot as plt\n",
        "import time\n",
        "from sklearn.datasets import load_iris\n",
        "from sklearn.model_selection import train_test_split\n",
        "\n"
      ],
      "metadata": {
        "id": "e0LE-6_JIf4y"
      },
      "execution_count": 2,
      "outputs": []
    },
    {
      "cell_type": "code",
      "source": [
        "# loading the dataset an understanding the dataset\n",
        "iris = load_iris()\n",
        "iris_X, iris_y = iris.data[:-1,:], iris.target[:-1]   # iris.data:4 feature per flower\n",
        "iris_y= pd.get_dummies(iris_y).values\n",
        "trainX, testX, trainY, testY = train_test_split(iris_X, iris_y, test_size=0.33, random_state=42)"
      ],
      "metadata": {
        "id": "YaxDf2mBI_ba"
      },
      "execution_count": 3,
      "outputs": []
    },
    {
      "cell_type": "markdown",
      "source": [
        "🔹 Step 2: Prepare Features and Labels\n",
        "---"
      ],
      "metadata": {
        "id": "xDJJGI-XS5Zo"
      }
    },
    {
      "cell_type": "markdown",
      "source": [
        "Step 3: Define Dimensions\n",
        "---"
      ],
      "metadata": {
        "id": "tEpXH2NETBZY"
      }
    },
    {
      "cell_type": "code",
      "source": [
        "# numFeatures is the number of features in our input data.\n",
        "# In the iris dataset, this number is '4'.\n",
        "numFeatures = trainX.shape[1]\n",
        "print('numFeatures is : ', numFeatures )\n",
        "# numLabels is the number of classes our data points can be in.\n",
        "# In the iris dataset, this number is '3'.\n",
        "numLabels = trainY.shape[1]\n",
        "print('numLabels is : ', numLabels )\n",
        "\n",
        "#X = tf.Variable( np.identity(numFeatures), tf.TensorShape(numFeatures),dtype='float32') # Iris has 4 features, so X is a tensor to hold our data.\n",
        "#yGold = tf.Variable(np.array([1,1,1]),shape=tf.TensorShape(numLabels),dtype='float32') # This will be our correct answers matrix for 3 classes."
      ],
      "metadata": {
        "colab": {
          "base_uri": "https://localhost:8080/"
        },
        "id": "CaVIXzFHJVBy",
        "outputId": "6896ede4-350e-4b40-c304-77aae360aa15"
      },
      "execution_count": 4,
      "outputs": [
        {
          "output_type": "stream",
          "name": "stdout",
          "text": [
            "numFeatures is :  4\n",
            "numLabels is :  3\n"
          ]
        }
      ]
    },
    {
      "cell_type": "markdown",
      "source": [
        "Define the shape of weights and biases based on input and output sizes.\n",
        "\n"
      ],
      "metadata": {
        "id": "kPyn6fuxR5sy"
      }
    },
    {
      "cell_type": "markdown",
      "source": [
        "Step 4: Convert Data to TensorFlow Tensors\n",
        "---"
      ],
      "metadata": {
        "id": "37ax8fXkR_G4"
      }
    },
    {
      "cell_type": "code",
      "metadata": {
        "id": "6c607ddc"
      },
      "source": [
        "trainX = tf.constant(trainX, dtype='float32')\n",
        "trainY = tf.constant(trainY, dtype='float32')\n",
        "testX = tf.constant(testX, dtype='float32')\n",
        "testY = tf.constant(testY, dtype='float32')\n"
      ],
      "execution_count": 5,
      "outputs": []
    },
    {
      "cell_type": "markdown",
      "source": [
        "Purpose: Make all inputs TensorFlow-compatible."
      ],
      "metadata": {
        "id": "V38CCAZ3R8WW"
      }
    },
    {
      "cell_type": "markdown",
      "source": [
        "Step 5: Initialize Weights and Biases\n",
        "---"
      ],
      "metadata": {
        "id": "m3jNd-jBSEGD"
      }
    },
    {
      "cell_type": "code",
      "source": [
        "W = tf.Variable(tf.zeros([4, 3]))  # 4-dimensional input and  3 classes\n",
        "b = tf.Variable(tf.zeros([3])) # 3-dimensional output [0,0,1],[0,1,0],[1,0,0]"
      ],
      "metadata": {
        "id": "Smhboso5J9Rs"
      },
      "execution_count": 6,
      "outputs": []
    },
    {
      "cell_type": "markdown",
      "source": [
        "✅ Purpose:\n",
        "\n",
        "weights: shape (4, 3)\n",
        "\n",
        "bias: shape (3,)"
      ],
      "metadata": {
        "id": "S7g-CtasSFxC"
      }
    },
    {
      "cell_type": "code",
      "source": [
        "#Randomly sample from a normal distribution with standard deviation .01\n",
        "\n",
        "weights = tf.Variable(tf.random.normal([numFeatures,numLabels],\n",
        "                                       mean=0.,\n",
        "                                       stddev=0.01,\n",
        "                                       name=\"weights\"),dtype='float32')\n",
        "\n",
        "\n",
        "bias = tf.Variable(tf.random.normal([1,numLabels],\n",
        "                                    mean=0.,\n",
        "                                    stddev=0.01,\n",
        "                                    name=\"bias\"))\n"
      ],
      "metadata": {
        "id": "lFO8qWyEFbM0"
      },
      "execution_count": 7,
      "outputs": []
    },
    {
      "cell_type": "markdown",
      "source": [
        " Step 6: Define Forward Pass (Logistic Regression Model)\n",
        " ---"
      ],
      "metadata": {
        "id": "OMu1Z5SuSJhZ"
      }
    },
    {
      "cell_type": "markdown",
      "source": [
        "Purpose: Apply W·X + b followed by softmax for multiclass output."
      ],
      "metadata": {
        "id": "Do2VNGMdSMLE"
      }
    },
    {
      "cell_type": "code",
      "source": [
        "def logistic_regression(x):\n",
        "    apply_weights_OP = tf.matmul(x, weights, name=\"apply_weights\")\n",
        "    add_bias_OP = tf.add(apply_weights_OP, bias, name=\"add_bias\")\n",
        "    activation_OP = tf.nn.sigmoid(add_bias_OP, name=\"activation\")\n",
        "    return activation_OP"
      ],
      "metadata": {
        "id": "vlvEliN3NoMQ"
      },
      "execution_count": 17,
      "outputs": []
    },
    {
      "cell_type": "code",
      "source": [
        "numEpochs=700\n",
        "# defining our learning rate iterations\n",
        "lr=tf.keras.optimizers.schedules.ExponentialDecay(initial_learning_rate=0.05,decay_steps=trainX.shape[0],\n",
        "                                          decay_rate= 0.95,\n",
        "                                          staircase=True)"
      ],
      "metadata": {
        "id": "AqI3SI51N2NY"
      },
      "execution_count": 29,
      "outputs": []
    },
    {
      "cell_type": "markdown",
      "source": [
        " Step 7: Define Loss Function & Optimizer\n",
        " ---"
      ],
      "metadata": {
        "id": "vvOOLgrxSd4A"
      }
    },
    {
      "cell_type": "code",
      "source": [
        "# defining our cost function squared mean error\n",
        "loss_obj=tf.keras.losses.MeanSquaredLogarithmicError()\n",
        "optimizer=tf.keras.optimizers.SGD(lr)"
      ],
      "metadata": {
        "id": "6LA2kHRtOVQQ"
      },
      "execution_count": 30,
      "outputs": []
    },
    {
      "cell_type": "markdown",
      "source": [
        " Purpose:\n",
        "\n",
        "Loss: Categorical cross-entropy for multiclass\n",
        "\n",
        "Optimizer: SGD with exponential learning rate decay"
      ],
      "metadata": {
        "id": "quQTQc-kSgzA"
      }
    },
    {
      "cell_type": "markdown",
      "source": [
        "Step 8: Define Accuracy Metric\n",
        "---"
      ],
      "metadata": {
        "id": "cwd5FWw1SjzO"
      }
    },
    {
      "cell_type": "code",
      "source": [
        "# Accuracy metric.\n",
        "def accuracy(y_pred, y_true):\n",
        "# Predicted class is the index of the highest score in prediction vector (i.e. argmax).\n",
        "\n",
        "    correct_prediction = tf.equal(tf.argmax(y_pred, 1), tf.argmax(y_true, 1))\n",
        "\n",
        "    return tf.reduce_mean(tf.cast(correct_prediction, tf.float32))"
      ],
      "metadata": {
        "id": "CRGtwy2JOwq3"
      },
      "execution_count": 31,
      "outputs": []
    },
    {
      "cell_type": "markdown",
      "source": [
        "Step 9: Define Optimization Step\n",
        "---"
      ],
      "metadata": {
        "id": "Uc4y4TBCSmcC"
      }
    },
    {
      "cell_type": "code",
      "source": [
        "# Optimization process.\n",
        "\n",
        "def run_optimization(x, y):\n",
        "    with tf.GradientTape() as g:\n",
        "        pred = logistic_regression(x)\n",
        "        loss = loss_obj(pred, y)\n",
        "    gradients = g.gradient(loss, [weights, bias])\n",
        "    optimizer.apply_gradients(zip(gradients, [weights, bias]))"
      ],
      "metadata": {
        "id": "LWXdPs0yO0zB"
      },
      "execution_count": 32,
      "outputs": []
    },
    {
      "cell_type": "markdown",
      "source": [
        " ✅ Purpose:\n",
        "\n",
        "Forward pass, calculate loss\n",
        "\n",
        "Compute gradients using GradientTape\n",
        "\n",
        "Update weights and biases"
      ],
      "metadata": {
        "id": "MxJvp_FSSqHS"
      }
    },
    {
      "cell_type": "markdown",
      "source": [
        "🔹 Step 10: Train the Model\n",
        "---"
      ],
      "metadata": {
        "id": "sDmDFCTQSt3n"
      }
    },
    {
      "cell_type": "code",
      "source": [
        "# Initialize reporting variables\n",
        "display_step = 10\n",
        "epoch_values = []\n",
        "accuracy_values = []\n",
        "loss_values = []\n",
        "loss = 0\n",
        "diff = 1\n",
        "# Training epochs\n",
        "for i in range(numEpochs):\n",
        "    if i > 1 and diff < .0001:\n",
        "        print(\"change in loss %g; convergence.\"%diff)\n",
        "        break\n",
        "    else:\n",
        "        # Run training step\n",
        "        run_optimization(trainX, trainY)\n",
        "\n",
        "        # Report occasional stats\n",
        "        if i % display_step == 0:\n",
        "            # Add epoch to epoch_values\n",
        "            epoch_values.append(i)\n",
        "\n",
        "            pred = logistic_regression(testX)\n",
        "\n",
        "            newLoss = loss_obj(pred, testY)\n",
        "            # Add loss to live graphing variable\n",
        "            loss_values.append(newLoss)\n",
        "\n",
        "            # Generate accuracy stats on test data\n",
        "            acc = accuracy(pred, testY)\n",
        "            accuracy_values.append(acc)\n",
        "\n",
        "\n",
        "            # Re-assign values for variables\n",
        "            diff = abs(newLoss - loss)\n",
        "            loss = newLoss\n",
        "\n",
        "            #generate print statements\n",
        "            print(\"step %d, training accuracy %g, loss %g, change in loss %g\"%(i, acc, newLoss, diff))\n",
        "\n",
        "\n",
        "\n",
        "\n",
        "\n",
        "# How well do we perform on held-out test data?\n",
        "print(\"final accuracy on test set: %s\" %acc.numpy())\n",
        "\n",
        "\n"
      ],
      "metadata": {
        "colab": {
          "base_uri": "https://localhost:8080/"
        },
        "id": "-OkxPD-wO4Xv",
        "outputId": "c6ea51ee-6c36-46a6-89cf-5c4513d3a3fe"
      },
      "execution_count": 33,
      "outputs": [
        {
          "output_type": "stream",
          "name": "stdout",
          "text": [
            "step 0, training accuracy 0.32, loss 0.106814, change in loss 0.106814\n",
            "step 10, training accuracy 0.32, loss 0.102903, change in loss 0.00391123\n",
            "step 20, training accuracy 0.34, loss 0.100569, change in loss 0.0023334\n",
            "step 30, training accuracy 0.6, loss 0.0987066, change in loss 0.00186256\n",
            "step 40, training accuracy 0.7, loss 0.0970145, change in loss 0.00169212\n",
            "step 50, training accuracy 0.7, loss 0.0954052, change in loss 0.00160923\n",
            "step 60, training accuracy 0.7, loss 0.0938535, change in loss 0.00155168\n",
            "step 70, training accuracy 0.7, loss 0.0923531, change in loss 0.00150049\n",
            "step 80, training accuracy 0.7, loss 0.0909028, change in loss 0.00145029\n",
            "step 90, training accuracy 0.7, loss 0.0895028, change in loss 0.00139995\n",
            "step 100, training accuracy 0.7, loss 0.0881666, change in loss 0.00133625\n",
            "step 110, training accuracy 0.7, loss 0.0869305, change in loss 0.00123608\n",
            "step 120, training accuracy 0.7, loss 0.085739, change in loss 0.00119153\n",
            "step 130, training accuracy 0.7, loss 0.0845911, change in loss 0.00114788\n",
            "step 140, training accuracy 0.7, loss 0.0834858, change in loss 0.00110531\n",
            "step 150, training accuracy 0.7, loss 0.0824218, change in loss 0.00106395\n",
            "step 160, training accuracy 0.7, loss 0.0813979, change in loss 0.0010239\n",
            "step 170, training accuracy 0.7, loss 0.0804127, change in loss 0.000985183\n",
            "step 180, training accuracy 0.7, loss 0.0794649, change in loss 0.00094787\n",
            "step 190, training accuracy 0.7, loss 0.0785529, change in loss 0.000911944\n",
            "step 200, training accuracy 0.7, loss 0.0776884, change in loss 0.000864498\n",
            "step 210, training accuracy 0.7, loss 0.0768852, change in loss 0.000803232\n",
            "step 220, training accuracy 0.7, loss 0.0761107, change in loss 0.000774466\n",
            "step 230, training accuracy 0.7, loss 0.0753639, change in loss 0.000746816\n",
            "step 240, training accuracy 0.7, loss 0.0746436, change in loss 0.00072027\n",
            "step 250, training accuracy 0.7, loss 0.0739488, change in loss 0.000694811\n",
            "step 260, training accuracy 0.7, loss 0.0732784, change in loss 0.000670388\n",
            "step 270, training accuracy 0.7, loss 0.0726315, change in loss 0.000646986\n",
            "step 280, training accuracy 0.7, loss 0.0720069, change in loss 0.000624537\n",
            "step 290, training accuracy 0.7, loss 0.0714039, change in loss 0.00060305\n",
            "step 300, training accuracy 0.7, loss 0.0708329, change in loss 0.000571005\n",
            "step 310, training accuracy 0.7, loss 0.0702975, change in loss 0.000535399\n",
            "step 320, training accuracy 0.7, loss 0.0697792, change in loss 0.0005183\n",
            "step 330, training accuracy 0.7, loss 0.0692773, change in loss 0.000501886\n",
            "step 340, training accuracy 0.7, loss 0.0687911, change in loss 0.000486135\n",
            "step 350, training accuracy 0.7, loss 0.0683201, change in loss 0.000471003\n",
            "step 360, training accuracy 0.7, loss 0.0678637, change in loss 0.00045649\n",
            "step 370, training accuracy 0.7, loss 0.0674211, change in loss 0.000442557\n",
            "step 380, training accuracy 0.7, loss 0.0669919, change in loss 0.000429176\n",
            "step 390, training accuracy 0.7, loss 0.0665756, change in loss 0.000416338\n",
            "step 400, training accuracy 0.7, loss 0.0661815, change in loss 0.000394031\n",
            "step 410, training accuracy 0.7, loss 0.0658085, change in loss 0.000373073\n",
            "step 420, training accuracy 0.7, loss 0.0654457, change in loss 0.000362784\n",
            "step 430, training accuracy 0.7, loss 0.0650928, change in loss 0.000352852\n",
            "step 440, training accuracy 0.7, loss 0.0647495, change in loss 0.0003433\n",
            "step 450, training accuracy 0.7, loss 0.0644154, change in loss 0.000334106\n",
            "step 460, training accuracy 0.7, loss 0.0640902, change in loss 0.00032524\n",
            "step 470, training accuracy 0.7, loss 0.0637735, change in loss 0.000316709\n",
            "step 480, training accuracy 0.7, loss 0.063465, change in loss 0.000308491\n",
            "step 490, training accuracy 0.7, loss 0.0631644, change in loss 0.000300549\n",
            "step 500, training accuracy 0.7, loss 0.0628802, change in loss 0.000284225\n",
            "step 510, training accuracy 0.7, loss 0.0626086, change in loss 0.000271626\n",
            "step 520, training accuracy 0.7, loss 0.0623434, change in loss 0.000265196\n",
            "step 530, training accuracy 0.7, loss 0.0620844, change in loss 0.000258975\n",
            "step 540, training accuracy 0.7, loss 0.0618315, change in loss 0.000252966\n",
            "step 550, training accuracy 0.7, loss 0.0615843, change in loss 0.000247154\n",
            "step 560, training accuracy 0.7, loss 0.0613428, change in loss 0.000241529\n",
            "step 570, training accuracy 0.7, loss 0.0611067, change in loss 0.000236094\n",
            "step 580, training accuracy 0.7, loss 0.0608758, change in loss 0.000230838\n",
            "step 590, training accuracy 0.7, loss 0.0606501, change in loss 0.000225753\n",
            "step 600, training accuracy 0.7, loss 0.0604369, change in loss 0.000213172\n",
            "step 610, training accuracy 0.7, loss 0.0602314, change in loss 0.000205513\n",
            "step 620, training accuracy 0.7, loss 0.0600301, change in loss 0.000201333\n",
            "step 630, training accuracy 0.7, loss 0.0598328, change in loss 0.000197276\n",
            "step 640, training accuracy 0.7, loss 0.0596394, change in loss 0.00019335\n",
            "step 650, training accuracy 0.7, loss 0.0594499, change in loss 0.000189535\n",
            "step 660, training accuracy 0.7, loss 0.0592641, change in loss 0.000185829\n",
            "step 670, training accuracy 0.7, loss 0.0590819, change in loss 0.000182223\n",
            "step 680, training accuracy 0.7, loss 0.0589031, change in loss 0.000178739\n",
            "step 690, training accuracy 0.7, loss 0.0587278, change in loss 0.000175353\n",
            "final accuracy on test set: 0.7\n"
          ]
        }
      ]
    },
    {
      "cell_type": "code",
      "source": [
        "%matplotlib inline\n",
        "import numpy as np\n",
        "import matplotlib.pyplot as plt\n",
        "plt.xlabel(\"Epoch\")\n",
        "plt.ylabel(\"Loss\")\n",
        "plt.plot(loss_values)\n",
        "plt.show()"
      ],
      "metadata": {
        "colab": {
          "base_uri": "https://localhost:8080/",
          "height": 449
        },
        "id": "r6FUQOIzO8lZ",
        "outputId": "fc3b488b-3f4f-426d-e099-fcb8bb2981bb"
      },
      "execution_count": 34,
      "outputs": [
        {
          "output_type": "display_data",
          "data": {
            "text/plain": [
              "<Figure size 640x480 with 1 Axes>"
            ],
            "image/png": "[encoded data removed]"
          },
          "metadata": {}
        }
      ]
    },
    {
      "cell_type": "code",
      "source": [],
      "metadata": {
        "id": "oSeIjsvGPKmJ"
      },
      "execution_count": null,
      "outputs": []
    },
    {
      "cell_type": "markdown",
      "source": [
        "Text Here accuracy is low\n",
        "---\n",
        "problem ???\n",
        "1. using wrong loss function\n",
        "2.wrong activation function\n",
        "3.Label one hot encoding on truncated datset\n",
        "4.Learning too low\n"
      ],
      "metadata": {
        "id": "rBpUMxv-QLJr"
      }
    },
    {
      "cell_type": "markdown",
      "source": [
        " Summary of Fixes:\n",
        " ---\n",
        "✅ Replace MeanSquaredLogarithmicError() → CategoricalCrossentropy(from_logits=False)\n",
        "\n",
        "✅ Replace sigmoid → softmax in activation\n",
        "\n",
        "✅ Use full dataset iris.data, iris.target\n",
        "\n",
        "✅ Use better learning rate: 0.05\n",
        "\n",
        "✅ Bias shape → [numLabels] not [1, numLabels]\n",
        "\n",
        "✅ Monitor both train and test accuracy\n",
        "\n"
      ],
      "metadata": {
        "id": "wCZlXGfjQtQ3"
      }
    },
    {
      "cell_type": "code",
      "source": [
        "from sklearn.datasets import load_iris\n",
        "from sklearn.linear_model import LogisticRegression\n",
        "from sklearn.model_selection import train_test_split\n",
        "from sklearn.metrics import accuracy_score\n",
        "\n",
        "iris = load_iris()\n",
        "X_train, X_test, y_train, y_test = train_test_split(iris.data, iris.target, test_size=0.33)\n",
        "\n",
        "model = LogisticRegression(max_iter=200)  # supports multiclass by default (one-vs-rest or multinomial)\n",
        "model.fit(X_train, y_train)\n",
        "\n",
        "preds = model.predict(X_test)\n",
        "print(\"Accuracy:\", accuracy_score(y_test, preds))\n"
      ],
      "metadata": {
        "colab": {
          "base_uri": "https://localhost:8080/"
        },
        "id": "Bqe7w6RmQuZK",
        "outputId": "de061a52-f2ba-41be-d8c2-c223324c7bf0"
      },
      "execution_count": 35,
      "outputs": [
        {
          "output_type": "stream",
          "name": "stdout",
          "text": [
            "Accuracy: 0.94\n"
          ]
        }
      ]
    },
    {
      "cell_type": "code",
      "source": [
        "import numpy as np\n",
        "from sklearn.datasets import load_iris\n",
        "from sklearn.model_selection import train_test_split\n",
        "from sklearn.preprocessing import OneHotEncoder\n",
        "\n",
        "# Load data\n",
        "iris = load_iris()\n",
        "X, y = iris.data, iris.target.reshape(-1, 1)\n",
        "\n",
        "# One-hot encode the labels\n",
        "encoder = OneHotEncoder(sparse_output=False)\n",
        "y_encoded = encoder.fit_transform(y)\n",
        "\n",
        "# Train-test split\n",
        "X_train, X_test, y_train, y_test = train_test_split(X, y_encoded, test_size=0.3, random_state=42)\n",
        "\n",
        "# Initialize weights and bias\n",
        "num_classes = y_train.shape[1]\n",
        "num_features = X_train.shape[1]\n",
        "W = np.random.randn(num_features, num_classes) * 0.01\n",
        "b = np.zeros((1, num_classes))\n",
        "\n",
        "# Softmax\n",
        "def softmax(z):\n",
        "    exp_z = np.exp(z - np.max(z, axis=1, keepdims=True))\n",
        "    return exp_z / np.sum(exp_z, axis=1, keepdims=True)\n",
        "\n",
        "# Cross-entropy loss\n",
        "def cross_entropy(y_pred, y_true):\n",
        "    return -np.mean(np.sum(y_true * np.log(y_pred + 1e-9), axis=1))\n",
        "\n",
        "# Training loop\n",
        "lr = 0.1\n",
        "epochs = 500\n",
        "\n",
        "for epoch in range(epochs):\n",
        "    z = np.dot(X_train, W) + b\n",
        "    y_pred = softmax(z)\n",
        "\n",
        "    loss = cross_entropy(y_pred, y_train)\n",
        "\n",
        "    # Backprop\n",
        "    dz = y_pred - y_train\n",
        "    dW = np.dot(X_train.T, dz) / X_train.shape[0]\n",
        "    db = np.sum(dz, axis=0, keepdims=True) / X_train.shape[0]\n",
        "\n",
        "    # Update\n",
        "    W -= lr * dW\n",
        "    b -= lr * db\n",
        "\n",
        "    if epoch % 50 == 0:\n",
        "        print(f\"Epoch {epoch}, Loss: {loss:.4f}\")\n",
        "\n",
        "# Test accuracy\n",
        "test_preds = softmax(np.dot(X_test, W) + b)\n",
        "acc = np.mean(np.argmax(test_preds, axis=1) == np.argmax(y_test, axis=1))\n",
        "print(\"Test Accuracy:\", acc)\n"
      ],
      "metadata": {
        "colab": {
          "base_uri": "https://localhost:8080/"
        },
        "id": "VAOLJTVgRBUz",
        "outputId": "61e849ef-9dfa-499f-bad4-20a19892d6ce"
      },
      "execution_count": 36,
      "outputs": [
        {
          "output_type": "stream",
          "name": "stdout",
          "text": [
            "Epoch 0, Loss: 1.0991\n",
            "Epoch 50, Loss: 0.6322\n",
            "Epoch 100, Loss: 0.4856\n",
            "Epoch 150, Loss: 0.3601\n",
            "Epoch 200, Loss: 0.2738\n",
            "Epoch 250, Loss: 0.2478\n",
            "Epoch 300, Loss: 0.2290\n",
            "Epoch 350, Loss: 0.2139\n",
            "Epoch 400, Loss: 0.2016\n",
            "Epoch 450, Loss: 0.1912\n",
            "Test Accuracy: 1.0\n"
          ]
        }
      ]
    },
    {
      "cell_type": "code",
      "source": [],
      "metadata": {
        "id": "224FXbzjRE4L"
      },
      "execution_count": null,
      "outputs": []
    }
  ]
}