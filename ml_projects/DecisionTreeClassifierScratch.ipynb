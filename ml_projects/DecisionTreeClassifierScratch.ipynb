{
  "nbformat": 4,
  "nbformat_minor": 0,
  "metadata": {
    "colab": {
      "provenance": [],
      "authorship_tag": "ABX9TyMJoiLJr4DkI4TWKdpGrYrN",
      "include_colab_link": true
    },
    "kernelspec": {
      "name": "python3",
      "display_name": "Python 3"
    },
    "language_info": {
      "name": "python"
    }
  },
  "cells": [
    {
      "cell_type": "markdown",
      "metadata": {
        "id": "view-in-github",
        "colab_type": "text"
      },
      "source": [
        "<a href=\"https://colab.research.google.com/github/iamhero2709/Learning-Projects-Notebook/blob/main/ml_projects/DecisionTreeClassifierScratch.ipynb\" target=\"_parent\"><img src=\"https://colab.research.google.com/assets/colab-badge.svg\" alt=\"Open In Colab\"/></a>"
      ]
    },
    {
      "cell_type": "markdown",
      "source": [
        "Decision Tree Classifier from Scratch (ID3 / CART style)\n",
        "---"
      ],
      "metadata": {
        "id": "7lBXRbA66M_a"
      }
    },
    {
      "cell_type": "markdown",
      "source": [
        "📚 THEORY (Hinglish Explanation)\n",
        "---\n",
        "* Tree splits data recursively on features\n",
        "\n",
        "* Decision taken using criteria like:\n",
        "\n",
        "* Entropy + Information Gain → ID3\n",
        "\n",
        "* Gini Index → CART"
      ],
      "metadata": {
        "id": "9pQbkR6m6R0l"
      }
    },
    {
      "cell_type": "markdown",
      "source": [
        "Decision Tree using Gini (Simplified CART-style)\n",
        "---\n"
      ],
      "metadata": {
        "id": "R6ZYsqC66c1K"
      }
    },
    {
      "cell_type": "code",
      "source": [
        "import numpy as np\n",
        "from collections import Counter\n",
        "\n",
        "# ------------ Node class ------------\n",
        "\n",
        "class Node:\n",
        "    def __init__(self, feature=None, threshold=None, left=None, right=None, *, value=None):\n",
        "        self.feature = feature\n",
        "        self.threshold = threshold\n",
        "        self.left = left\n",
        "        self.right = right\n",
        "        self.value = value  # only for leaf\n",
        "\n",
        "    def is_leaf_node(self):\n",
        "        return self.value is not None\n",
        "\n",
        "# ------------ Decision Tree ------------\n",
        "\n",
        "class DecisionTree:\n",
        "    def __init__(self, max_depth=10, min_samples_split=2):\n",
        "        self.max_depth = max_depth\n",
        "        self.min_samples_split = min_samples_split\n",
        "        self.root = None\n",
        "\n",
        "    def fit(self, X, y):\n",
        "        self.n_classes = len(set(y))\n",
        "        self.root = self._build_tree(X, y)\n",
        "\n",
        "    def _build_tree(self, X, y, depth=0):\n",
        "        n_samples, n_features = X.shape\n",
        "        num_labels = len(set(y))\n",
        "\n",
        "        # stopping conditions\n",
        "        if depth >= self.max_depth or num_labels == 1 or n_samples < self.min_samples_split:\n",
        "            leaf_value = self._most_common_label(y)\n",
        "            return Node(value=leaf_value)\n",
        "\n",
        "        best_feat, best_thresh = self._best_split(X, y, n_features)\n",
        "        if best_feat is None:\n",
        "            return Node(value=self._most_common_label(y))\n",
        "\n",
        "\n",
        "        left_idx = X[:, best_feat] <= best_thresh\n",
        "        right_idx = X[:, best_feat] > best_thresh\n",
        "\n",
        "\n",
        "        left = self._build_tree(X[left_idx], y[left_idx], depth + 1)\n",
        "        right = self._build_tree(X[right_idx], y[right_idx], depth + 1)\n",
        "\n",
        "        return Node(best_feat, best_thresh, left, right)\n",
        "\n",
        "\n",
        "    def _best_split(self, X, y, n_features):\n",
        "        best_gain = -1\n",
        "        split_idx, split_thresh = None, None\n",
        "\n",
        "        for feature_idx in range(n_features):\n",
        "            X_column = X[:, feature_idx]\n",
        "            thresholds = np.unique(X_column)\n",
        "            for threshold in thresholds:\n",
        "                left_idx = X_column <= threshold\n",
        "                right_idx = X_column > threshold\n",
        "                if len(y[left_idx]) == 0 or len(y[right_idx]) == 0:\n",
        "                    continue\n",
        "\n",
        "                gain = self._gini_gain(y, left_idx, right_idx)\n",
        "                if gain > best_gain:\n",
        "                    best_gain = gain\n",
        "                    split_idx = feature_idx\n",
        "                    split_thresh = threshold\n",
        "\n",
        "        return split_idx, split_thresh\n",
        "\n",
        "\n",
        "    def _gini_gain(self, y, left_idx, right_idx):\n",
        "        def gini(y):\n",
        "            counts = np.bincount(y)\n",
        "            prob = counts / len(y)\n",
        "            return 1 - np.sum(prob ** 2)\n",
        "\n",
        "        parent_loss = gini(y)\n",
        "        n = len(y)\n",
        "        n_l, n_r = len(y[left_idx]), len(y[right_idx])\n",
        "\n",
        "        if n_l == 0 or n_r == 0:\n",
        "            return 0\n",
        "\n",
        "        left_loss = gini(y[left_idx])\n",
        "        right_loss = gini(y[right_idx])\n",
        "        weighted_avg = (n_l / n) * left_loss + (n_r / n) * right_loss\n",
        "\n",
        "        return parent_loss - weighted_avg\n",
        "\n",
        "    def _most_common_label(self, y):\n",
        "        counter = Counter(y)\n",
        "        return counter.most_common(1)[0][0]\n",
        "\n",
        "\n",
        "    def predict(self, X):\n",
        "        return np.array([self._traverse_tree(x, self.root) for x in X])\n",
        "\n",
        "    def _traverse_tree(self, x, node):\n",
        "        if node.is_leaf_node():\n",
        "            return node.value\n",
        "\n",
        "        if x[node.feature] <= node.threshold:\n",
        "            return self._traverse_tree(x, node.left)\n",
        "        return self._traverse_tree(x, node.right)\n",
        "\n",
        "    def print_tree(self, node=None, depth=0):\n",
        "        if node is None:\n",
        "            node = self.root\n",
        "\n",
        "        if node.is_leaf_node():\n",
        "            print(f\"{'  '*depth}Leaf → Predict: {node.value}\")\n",
        "        else:\n",
        "            print(f\"{'  '*depth}X[{node.feature}] <= {node.threshold:.3f}\")\n",
        "            self.print_tree(node.left, depth + 1)\n",
        "            print(f\"{'  '*depth}X[{node.feature}] > {node.threshold:.3f}\")\n",
        "            self.print_tree(node.right, depth + 1)"
      ],
      "metadata": {
        "id": "PRY1c7Fy6fX8"
      },
      "execution_count": null,
      "outputs": []
    },
    {
      "cell_type": "markdown",
      "source": [
        "CODE EXPLANATION\n",
        "---\n",
        "* COUNTER- simple helper tool that count which label or items came how frequent\n",
        "\n",
        "* we first made a class node - the point where we take decession\n",
        "* Node class has paramter feature threshold left right and value\n",
        "* feature - in which column we are taking decession\n",
        "* threshold - in that column in which value  splitting is happening\n",
        "\n",
        "* left , right : if feature work then left otherwise right\n",
        "* value - agr leaf is node then   which class we should predict\n",
        "\n",
        " def is_leaf_node(self):\n",
        " return self.value is not None\n",
        "* this function tells this node is making final decession or not\n",
        "\n",
        "* decession treee class has paramter:\n",
        "* max_depth - the depth of the tree\n",
        "* min_samples_split - how much minimum samples for spliting\n",
        "* fit function similar to model.fit() like function\n",
        "* _build_tree  - Recursive tree grow\n",
        "* this function makes tree starting from root * can we split more ?\n",
        "* if no -- then make leaf\n",
        "* if we can - then find the feature threshold and  divide tree in left and right\n",
        "\n",
        "* stopping condition - if depth limit is crossed or only one class or few samples left then we cannt do split more\n",
        "\n",
        "* then make direct leaf and store that class predition\n",
        "* best split - this function decide which feature/column  and which threshold value\n",
        "* Gini gain means and decresing the impurity\n",
        "* the measure of gini impurity  if in one node only one class then  class is 100% pure\n",
        "* if mix then purity is high\n",
        "\n",
        "* Gain = parent impurity - (left + right impurity ka weighted average)Jitna zyada gain, utna accha split.\n",
        "\n",
        "* most_common_label_count---majority vote\n",
        "\n"
      ],
      "metadata": {
        "id": "Y9TQYcfdE2nh"
      }
    },
    {
      "cell_type": "code",
      "source": [
        "from sklearn.datasets import load_breast_cancer\n",
        "from sklearn.model_selection import train_test_split\n",
        "from sklearn.metrics import accuracy_score\n",
        "from sklearn.preprocessing import StandardScaler\n",
        "\n",
        "# Data load\n",
        "data = load_breast_cancer()\n",
        "X, y = data.data, data.target\n",
        "\n",
        "# Normalize\n",
        "sc = StandardScaler()\n",
        "X = sc.fit_transform(X)\n",
        "\n",
        "# Split\n",
        "X_train, X_test, y_train, y_test = train_test_split(X, y, test_size=0.2)\n",
        "\n",
        "# Train\n",
        "tree = DecisionTree(max_depth=5)\n",
        "tree.fit(X_train, y_train)\n",
        "\n",
        "# Predict\n",
        "y_pred = tree.predict(X_test)\n",
        "acc = accuracy_score(y_test, y_pred)\n",
        "print(f\"Accuracy (Decision Tree Scratch): {acc:.4f}\")\n"
      ],
      "metadata": {
        "colab": {
          "base_uri": "https://localhost:8080/"
        },
        "id": "qX6RIK1H-tuC",
        "outputId": "6ab911b9-0786-40f2-fb92-e2db0130a758"
      },
      "execution_count": null,
      "outputs": [
        {
          "output_type": "stream",
          "name": "stdout",
          "text": [
            "Accuracy (Decision Tree Scratch): 0.9474\n"
          ]
        }
      ]
    },
    {
      "cell_type": "markdown",
      "source": [
        "predicting and plotting on dattset\n",
        "---"
      ],
      "metadata": {
        "id": "H_hduqq9Dl0-"
      }
    },
    {
      "cell_type": "code",
      "source": [
        "from sklearn.datasets import make_classification\n",
        "import matplotlib.pyplot as plt\n",
        "\n",
        "X_vis, y_vis = make_classification(n_samples=300, n_features=2, n_redundant=0, n_clusters_per_class=1)\n",
        "tree_vis = DecisionTree(max_depth=3)\n",
        "tree_vis.fit(X_vis, y_vis)\n",
        "\n",
        "# Predict and plot decision regions\n",
        "def plot_decision_regions(X, y, model):\n",
        "    x_min, x_max = X[:, 0].min() - 1, X[:, 0].max() + 1\n",
        "    y_min, y_max = X[:, 1].min() - 1, X[:, 1].max() + 1\n",
        "    xx, yy = np.meshgrid(np.linspace(x_min, x_max, 200),\n",
        "                         np.linspace(y_min, y_max, 200))\n",
        "    grid = np.c_[xx.ravel(), yy.ravel()]\n",
        "    Z = model.predict(grid).reshape(xx.shape)\n",
        "\n",
        "    plt.contourf(xx, yy, Z, alpha=0.4, cmap='bwr')\n",
        "    plt.scatter(X[:, 0], X[:, 1], c=y, cmap='bwr', edgecolors='k')\n",
        "    plt.title(\"Decision Tree Decision Boundary\")\n",
        "    plt.xlabel(\"Feature 1\")\n",
        "    plt.ylabel(\"Feature 2\")\n",
        "    plt.grid(True)\n",
        "    plt.show()\n",
        "\n",
        "plot_decision_regions(X_vis, y_vis, tree_vis)\n"
      ],
      "metadata": {
        "colab": {
          "base_uri": "https://localhost:8080/",
          "height": 472
        },
        "id": "Z6ThxMgkDo_a",
        "outputId": "22147b3f-9ab8-4b8d-c74d-59080cc8b2d2"
      },
      "execution_count": null,
      "outputs": [
        {
          "output_type": "display_data",
          "data": {
            "text/plain": [
              "<Figure size 640x480 with 1 Axes>"
            ],
            "image/png": "[encoded data removed]"
          },
          "metadata": {}
        }
      ]
    },
    {
      "cell_type": "code",
      "source": [
        "tree.print_tree()\n"
      ],
      "metadata": {
        "colab": {
          "base_uri": "https://localhost:8080/"
        },
        "id": "_CXOxMSGDuPO",
        "outputId": "7cbce1fa-dd47-426d-9182-6ab902584d0c"
      },
      "execution_count": null,
      "outputs": [
        {
          "output_type": "stream",
          "name": "stdout",
          "text": [
            "X[23] <= 0.000\n",
            "  X[27] <= 0.690\n",
            "    X[27] <= 0.247\n",
            "      X[3] <= 0.110\n",
            "        X[13] <= 0.187\n",
            "          Leaf → Predict: 1\n",
            "        X[13] > 0.187\n",
            "          Leaf → Predict: 1\n",
            "      X[3] > 0.110\n",
            "        Leaf → Predict: 0\n",
            "    X[27] > 0.247\n",
            "      X[21] <= 0.258\n",
            "        X[23] <= -0.124\n",
            "          Leaf → Predict: 1\n",
            "        X[23] > -0.124\n",
            "          Leaf → Predict: 0\n",
            "      X[21] > 0.258\n",
            "        Leaf → Predict: 0\n",
            "  X[27] > 0.690\n",
            "    X[21] <= -0.405\n",
            "      X[1] <= -0.868\n",
            "        Leaf → Predict: 0\n",
            "      X[1] > -0.868\n",
            "        Leaf → Predict: 1\n",
            "    X[21] > -0.405\n",
            "      Leaf → Predict: 0\n",
            "X[23] > 0.000\n",
            "  X[6] <= -0.379\n",
            "    X[1] <= -0.233\n",
            "      Leaf → Predict: 1\n",
            "    X[1] > -0.233\n",
            "      X[4] <= -1.559\n",
            "        Leaf → Predict: 1\n",
            "      X[4] > -1.559\n",
            "        Leaf → Predict: 0\n",
            "  X[6] > -0.379\n",
            "    Leaf → Predict: 0\n"
          ]
        }
      ]
    },
    {
      "cell_type": "code",
      "source": [],
      "metadata": {
        "id": "An-MwcXqEE_K"
      },
      "execution_count": null,
      "outputs": []
    },
    {
      "cell_type": "markdown",
      "source": [
        "DECESSION TREE USING ID3\n",
        "---\n",
        "* GINI + ENTROPY\n"
      ],
      "metadata": {
        "id": "1bw4woVCJlZ3"
      }
    },
    {
      "cell_type": "code",
      "source": [
        "#importing libraries\n",
        "import numpy as np\n",
        "from collections import Counter"
      ],
      "metadata": {
        "id": "4KHQcpXzJudj"
      },
      "execution_count": 15,
      "outputs": []
    },
    {
      "cell_type": "markdown",
      "source": [
        "NODE CLASS\n",
        "---"
      ],
      "metadata": {
        "id": "uH1nkSc3K_i0"
      }
    },
    {
      "cell_type": "code",
      "source": [
        "# making deecession tree using id3\n",
        "class node:\n",
        "  def __init__(self,threshold,left,right,*,value):\n",
        "    self.threshold=threshold\n",
        "    self.left=left\n",
        "    self.right=right\n",
        "    self.value=value\n",
        "  def is_leaf_node(self):\n",
        "   return self.value is not None\n",
        "\n"
      ],
      "metadata": {
        "id": "tKIx1_vtKH4e"
      },
      "execution_count": 17,
      "outputs": []
    },
    {
      "cell_type": "markdown",
      "source": [
        "ID3 TREE\n",
        "---"
      ],
      "metadata": {
        "id": "OOGjLRjeLGuv"
      }
    },
    {
      "cell_type": "code",
      "source": [
        "class ID3DecisionTree:\n",
        "    def __init__(self, max_depth=10):\n",
        "        self.max_depth = max_depth\n",
        "        self.root = None\n",
        "\n",
        "    def fit(self, X, y):\n",
        "        self.n_classes = len(set(y))\n",
        "        self.root = self._build_tree(X, y)\n",
        "\n",
        "    def _entropy(self, y):\n",
        "        hist = np.bincount(y)\n",
        "        ps = hist / len(y)\n",
        "        return -np.sum([p * np.log2(p) for p in ps if p > 0])\n",
        "\n",
        "    def _information_gain(self, y, left_idx, right_idx):\n",
        "        parent_entropy = self._entropy(y)\n",
        "        n = len(y)\n",
        "        n_l, n_r = len(left_idx), len(right_idx)\n",
        "\n",
        "        if n_l == 0 or n_r == 0:\n",
        "            return 0\n",
        "\n",
        "        e_l = self._entropy(y[left_idx])\n",
        "        e_r = self._entropy(y[right_idx])\n",
        "        weighted_entropy = (n_l / n) * e_l + (n_r / n) * e_r\n",
        "\n",
        "        return parent_entropy - weighted_entropy\n",
        "\n",
        "    def _best_split(self, X, y):\n",
        "        best_gain = -1\n",
        "        best_feat, best_thresh = None, None\n",
        "\n",
        "        for feature_idx in range(X.shape[1]):\n",
        "            thresholds = np.unique(X[:, feature_idx])\n",
        "            for thresh in thresholds:\n",
        "                left_idx = np.where(X[:, feature_idx] <= thresh)[0]\n",
        "                right_idx = np.where(X[:, feature_idx] > thresh)[0]\n",
        "                gain = self._information_gain(y, left_idx, right_idx)\n",
        "\n",
        "                if gain > best_gain:\n",
        "                    best_gain = gain\n",
        "                    best_feat = feature_idx\n",
        "                    best_thresh = thresh\n",
        "        return best_feat, best_thresh\n",
        "\n",
        "    def _most_common_label(self, y):\n",
        "        return Counter(y).most_common(1)[0][0]\n",
        "\n",
        "    def _build_tree(self, X, y, depth=0):\n",
        "        if depth >= self.max_depth or len(set(y)) == 1:\n",
        "            return Node(value=self._most_common_label(y))\n",
        "\n",
        "        feat, thresh = self._best_split(X, y)\n",
        "        if feat is None:\n",
        "            return Node(value=self._most_common_label(y))\n",
        "\n",
        "        left_idx = np.where(X[:, feat] <= thresh)[0]\n",
        "        right_idx = np.where(X[:, feat] > thresh)[0]\n",
        "\n",
        "        left = self._build_tree(X[left_idx], y[left_idx], depth + 1)\n",
        "        right = self._build_tree(X[right_idx], y[right_idx], depth + 1)\n",
        "\n",
        "        return Node(feature=feat, threshold=thresh, left=left, right=right)\n",
        "\n",
        "    def predict(self, X):\n",
        "        return np.array([self._traverse_tree(x, self.root) for x in X])\n",
        "\n",
        "    def _traverse_tree(self, x, node):\n",
        "        if node.is_leaf_node():\n",
        "            return node.value\n",
        "        if x[node.feature] <= node.threshold:\n",
        "            return self._traverse_tree(x, node.left)\n",
        "        return self._traverse_tree(x, node.right)\n",
        "\n",
        "    def print_tree(self, node=None, depth=0):\n",
        "        if node is None:\n",
        "            node = self.root\n",
        "        if node.is_leaf_node():\n",
        "            print(f\"{'  '*depth}Predict: {node.value}\")\n",
        "        else:\n",
        "            print(f\"{'  '*depth}X[{node.feature}] <= {node.threshold:.3f}\")\n",
        "            self.print_tree(node.left, depth + 1)\n",
        "            print(f\"{'  '*depth}X[{node.feature}] > {node.threshold:.3f}\")\n",
        "            self.print_tree(node.right, depth + 1)\n"
      ],
      "metadata": {
        "id": "NkJbepUTK6I-"
      },
      "execution_count": 19,
      "outputs": []
    },
    {
      "cell_type": "code",
      "source": [],
      "metadata": {
        "id": "e6Un952iLXJa"
      },
      "execution_count": null,
      "outputs": []
    },
    {
      "cell_type": "markdown",
      "source": [
        "Visulisation\n",
        "---"
      ],
      "metadata": {
        "id": "g21Thc8YL075"
      }
    },
    {
      "cell_type": "code",
      "source": [
        "X, y = make_classification(n_samples=300, n_features=2, n_redundant=0, n_clusters_per_class=1, random_state=42)\n",
        "X_train, X_test, y_train, y_test = train_test_split(X, y, test_size=0.2)\n",
        "\n",
        "tree = ID3DecisionTree(max_depth=5)\n",
        "tree.fit(X_train, y_train)\n",
        "\n",
        "y_pred = tree.predict(X_test)\n",
        "print(\"Accuracy:\", accuracy_score(y_test, y_pred))\n"
      ],
      "metadata": {
        "colab": {
          "base_uri": "https://localhost:8080/"
        },
        "id": "hVwTl-c_L17i",
        "outputId": "c30efb19-340c-47f1-e672-74508df41f08"
      },
      "execution_count": 20,
      "outputs": [
        {
          "output_type": "stream",
          "name": "stdout",
          "text": [
            "Accuracy: 0.9833333333333333\n"
          ]
        }
      ]
    },
    {
      "cell_type": "code",
      "source": [
        "def plot_decision_boundary(X, y, model):\n",
        "    x_min, x_max = X[:, 0].min() - 1, X[:, 0].max() + 1\n",
        "    y_min, y_max = X[:, 1].min() - 1, X[:, 1].max() + 1\n",
        "    xx, yy = np.meshgrid(np.linspace(x_min, x_max, 200),\n",
        "                         np.linspace(y_min, y_max, 200))\n",
        "    grid = np.c_[xx.ravel(), yy.ravel()]\n",
        "    Z = model.predict(grid).reshape(xx.shape)\n",
        "\n",
        "    plt.contourf(xx, yy, Z, cmap=\"coolwarm\", alpha=0.4)\n",
        "    plt.scatter(X[:, 0], X[:, 1], c=y, cmap=\"coolwarm\", edgecolors=\"k\")\n",
        "    plt.title(\"ID3 Decision Boundary\")\n",
        "    plt.show()\n",
        "\n",
        "plot_decision_boundary(X_test, y_test, tree)\n",
        "tree.print_tree()\n"
      ],
      "metadata": {
        "colab": {
          "base_uri": "https://localhost:8080/",
          "height": 1000
        },
        "id": "GgKdhevuL6na",
        "outputId": "d11d2dc9-0caf-4505-c042-b991ea88d83b"
      },
      "execution_count": 21,
      "outputs": [
        {
          "output_type": "display_data",
          "data": {
            "text/plain": [
              "<Figure size 640x480 with 1 Axes>"
            ],
            "image/png": "[encoded data removed]"
          },
          "metadata": {}
        },
        {
          "output_type": "stream",
          "name": "stdout",
          "text": [
            "X[1] <= 0.189\n",
            "  X[0] <= 1.659\n",
            "    X[1] <= -0.409\n",
            "      X[0] <= 0.960\n",
            "        Predict: 0\n",
            "      X[0] > 0.960\n",
            "        X[0] <= 0.964\n",
            "          Predict: 1\n",
            "        X[0] > 0.964\n",
            "          Predict: 0\n",
            "    X[1] > -0.409\n",
            "      X[0] <= 1.336\n",
            "        X[0] <= 0.970\n",
            "          Predict: 1\n",
            "        X[0] > 0.970\n",
            "          Predict: 0\n",
            "      X[0] > 1.336\n",
            "        Predict: 0\n",
            "  X[0] > 1.659\n",
            "    Predict: 1\n",
            "X[1] > 0.189\n",
            "  X[1] <= 0.721\n",
            "    X[1] <= 0.713\n",
            "      X[0] <= 1.669\n",
            "        Predict: 1\n",
            "      X[0] > 1.669\n",
            "        X[0] <= 1.687\n",
            "          Predict: 0\n",
            "        X[0] > 1.687\n",
            "          Predict: 1\n",
            "    X[1] > 0.713\n",
            "      Predict: 0\n",
            "  X[1] > 0.721\n",
            "    Predict: 1\n"
          ]
        }
      ]
    },
    {
      "cell_type": "code",
      "source": [],
      "metadata": {
        "id": "N5WTftQNL8Mb"
      },
      "execution_count": null,
      "outputs": []
    }
  ]
}